{
 "cells": [
  {
   "cell_type": "markdown",
   "id": "fea0a01d",
   "metadata": {},
   "source": [
    "# CropMax Small Scale Implementation "
   ]
  },
  {
   "cell_type": "code",
   "execution_count": null,
   "id": "cc430983",
   "metadata": {},
   "outputs": [],
   "source": [
    "#imports\n",
    "import pandas as pd\n",
    "from sklearn.model_selection import train_test_split\n",
    "from sklearn.ensemble import RandomForestClassifier\n",
    "from sklearn.preprocessing import LabelEncoder\n",
    "from sklearn.metrics import accuracy_score, classification_report"
   ]
  },
  {
   "cell_type": "code",
   "execution_count": 3,
   "id": "3aa24415",
   "metadata": {},
   "outputs": [
    {
     "name": "stdout",
     "output_type": "stream",
     "text": [
      "    N   P   K  temperature   humidity        ph    rainfall label\n",
      "0  90  42  43    20.879744  82.002744  6.502985  202.935536  rice\n",
      "1  85  58  41    21.770462  80.319644  7.038096  226.655537  rice\n",
      "2  60  55  44    23.004459  82.320763  7.840207  263.964248  rice\n",
      "3  74  35  40    26.491096  80.158363  6.980401  242.864034  rice\n",
      "4  78  42  42    20.130175  81.604873  7.628473  262.717340  rice\n"
     ]
    }
   ],
   "source": [
    "# Load the dataset\n",
    "data = pd.read_csv('Crop_recommendation.csv')\n",
    "\n",
    "# Display the first few rows of the dataset\n",
    "print(data.head())"
   ]
  },
  {
   "cell_type": "code",
   "execution_count": 4,
   "id": "13ad720d",
   "metadata": {},
   "outputs": [],
   "source": [
    "# Separate features and target\n",
    "X = data.drop('label', axis=1)\n",
    "y = data['label']\n"
   ]
  },
  {
   "cell_type": "code",
   "execution_count": 5,
   "id": "114be614",
   "metadata": {},
   "outputs": [],
   "source": [
    "# Split the data into training and testing sets\n",
    "X_train, X_test, y_train, y_test = train_test_split(X, y, test_size=0.3, random_state=42)"
   ]
  },
  {
   "cell_type": "code",
   "execution_count": 6,
   "id": "74a1e5f5",
   "metadata": {},
   "outputs": [],
   "source": [
    "# Initialize the RandomForestClassifier\n",
    "model = RandomForestClassifier(n_estimators=100, random_state=42)"
   ]
  },
  {
   "cell_type": "code",
   "execution_count": 7,
   "id": "b49ca9cb",
   "metadata": {},
   "outputs": [
    {
     "data": {
      "text/plain": [
       "RandomForestClassifier(random_state=42)"
      ]
     },
     "execution_count": 7,
     "metadata": {},
     "output_type": "execute_result"
    }
   ],
   "source": [
    "# Train the model\n",
    "model.fit(X_train, y_train)"
   ]
  },
  {
   "cell_type": "code",
   "execution_count": 8,
   "id": "06bddd4d",
   "metadata": {},
   "outputs": [],
   "source": [
    "# Make predictions\n",
    "y_pred = model.predict(X_test)"
   ]
  },
  {
   "cell_type": "code",
   "execution_count": 9,
   "id": "17cbebf1",
   "metadata": {},
   "outputs": [
    {
     "name": "stdout",
     "output_type": "stream",
     "text": [
      "Accuracy: 99.09%\n",
      "              precision    recall  f1-score   support\n",
      "\n",
      "       apple       1.00      1.00      1.00        34\n",
      "      banana       1.00      1.00      1.00        26\n",
      "   blackgram       1.00      1.00      1.00        26\n",
      "    chickpea       1.00      1.00      1.00        34\n",
      "     coconut       1.00      1.00      1.00        33\n",
      "      coffee       1.00      1.00      1.00        30\n",
      "      cotton       1.00      1.00      1.00        28\n",
      "      grapes       1.00      1.00      1.00        23\n",
      "        jute       0.85      1.00      0.92        34\n",
      " kidneybeans       1.00      1.00      1.00        36\n",
      "      lentil       1.00      1.00      1.00        22\n",
      "       maize       1.00      1.00      1.00        26\n",
      "       mango       1.00      1.00      1.00        32\n",
      "   mothbeans       1.00      1.00      1.00        34\n",
      "    mungbean       1.00      1.00      1.00        30\n",
      "   muskmelon       1.00      1.00      1.00        24\n",
      "      orange       1.00      1.00      1.00        25\n",
      "      papaya       1.00      1.00      1.00        37\n",
      "  pigeonpeas       1.00      1.00      1.00        37\n",
      " pomegranate       1.00      1.00      1.00        38\n",
      "        rice       1.00      0.79      0.88        28\n",
      "  watermelon       1.00      1.00      1.00        23\n",
      "\n",
      "    accuracy                           0.99       660\n",
      "   macro avg       0.99      0.99      0.99       660\n",
      "weighted avg       0.99      0.99      0.99       660\n",
      "\n"
     ]
    }
   ],
   "source": [
    "# Evaluate the model\n",
    "accuracy = accuracy_score(y_test, y_pred)\n",
    "print(f'Accuracy: {accuracy * 100:.2f}%')\n",
    "print(classification_report(y_test, y_pred))"
   ]
  },
  {
   "cell_type": "markdown",
   "id": "2eea30a2",
   "metadata": {},
   "source": [
    "### INPUT"
   ]
  },
  {
   "cell_type": "code",
   "execution_count": 10,
   "id": "704f128b",
   "metadata": {},
   "outputs": [],
   "source": [
    "# Example usage of the model for prediction\n",
    "example_data = {\n",
    "    'N': [90],\n",
    "    'P': [42],\n",
    "    'K': [43],\n",
    "    'temperature': [20.880],\n",
    "    'humidity': [82.002],\n",
    "    'ph': [6.502],\n",
    "    'rainfall': [202.935]\n",
    "}"
   ]
  },
  {
   "cell_type": "markdown",
   "id": "732b8ba5",
   "metadata": {},
   "source": [
    "### OUTPUT"
   ]
  },
  {
   "cell_type": "code",
   "execution_count": 12,
   "id": "0cffc438",
   "metadata": {},
   "outputs": [
    {
     "name": "stdout",
     "output_type": "stream",
     "text": [
      "Predicted crop: rice\n"
     ]
    }
   ],
   "source": [
    "example_df = pd.DataFrame(example_data)\n",
    "example_prediction = model.predict(example_df)\n",
    "print(f'Predicted crop: {example_prediction[0]}')"
   ]
  }
 ],
 "metadata": {
  "kernelspec": {
   "display_name": "Python 3 (ipykernel)",
   "language": "python",
   "name": "python3"
  },
  "language_info": {
   "codemirror_mode": {
    "name": "ipython",
    "version": 3
   },
   "file_extension": ".py",
   "mimetype": "text/x-python",
   "name": "python",
   "nbconvert_exporter": "python",
   "pygments_lexer": "ipython3",
   "version": "3.9.7"
  }
 },
 "nbformat": 4,
 "nbformat_minor": 5
}
